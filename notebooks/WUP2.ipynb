{
 "cells": [
  {
   "cell_type": "markdown",
   "metadata": {},
   "source": [
    "## Load the necessary imports"
   ]
  },
  {
   "cell_type": "code",
   "execution_count": null,
   "metadata": {},
   "outputs": [],
   "source": [
    "from __future__ import annotations\n",
    "\n",
    "import sys\n",
    "\n",
    "sys.path.append(\"../scripts\")"
   ]
  },
  {
   "cell_type": "code",
   "execution_count": null,
   "metadata": {},
   "outputs": [],
   "source": [
    "from tqdm import tqdm\n",
    "from testy import count_black_pixels, convert_slice_stats_to_csv, convert_volume_stats_to_csv, comparison_plot\n",
    "from wup_analysis import initialize_dataset, DATA_PATH_TEMPLATE, update_slice_stats, update_volume_stats\n",
    "from preprocessing import otsu_thresholding\n",
    "import cv2\n",
    "from matplotlib import pyplot as plt\n",
    "import numpy as np"
   ]
  },
  {
   "cell_type": "markdown",
   "metadata": {},
   "source": [
    "## Implementation of helper functions for the image preprocessing"
   ]
  },
  {
   "cell_type": "code",
   "execution_count": null,
   "metadata": {},
   "outputs": [],
   "source": [
    "def remove_black_area(img: np.ndarray, plot: bool=False) -> np.ndarray:\n",
    "    \"\"\"Remove the black area from the input image.\n",
    "\n",
    "    :param img: The input image.\n",
    "    :param plot: Switch to enable/disable plotting.\n",
    "    :return: The image with the black area removed.\n",
    "    \"\"\"\n",
    "    # Find contours in the image\n",
    "    contours, _ = cv2.findContours(img, cv2.RETR_EXTERNAL, cv2.CHAIN_APPROX_SIMPLE)\n",
    "\n",
    "    # Find the contour with the largest area\n",
    "    largest_contour = max(contours, key=cv2.contourArea)\n",
    "\n",
    "    # Create a mask for the largest contour\n",
    "    largest_contour_mask = np.zeros_like(img, dtype=np.uint8)\n",
    "    cv2.drawContours(largest_contour_mask, [largest_contour], -1, 255, cv2.FILLED)\n",
    "    \n",
    "    # Subtract the largest contour mask from the input image\n",
    "    img_excluding_largest_contour = cv2.subtract(largest_contour_mask, img)\n",
    "    \n",
    "    if plot:\n",
    "        comparison_plot(img, img_excluding_largest_contour, \"Grayscale Image\", \"Image Excluding Largest Contour\")\n",
    "        \n",
    "    return img_excluding_largest_contour"
   ]
  },
  {
   "cell_type": "markdown",
   "metadata": {},
   "source": [
    "## Main function for the 2D image analysis"
   ]
  },
  {
   "cell_type": "code",
   "execution_count": null,
   "metadata": {},
   "outputs": [],
   "source": [
    "def run_analysis(data: list[np.ndarray], dataset: str, save: bool = False) -> None:\n",
    "    \"\"\"\n",
    "    Perform analysis on the given dataset.\n",
    "\n",
    "    :param data: List of numpy arrays representing the dataset.\n",
    "    :param dataset: Name of the dataset.\n",
    "    :param save: Whether to save the analysis results or not. Defaults to False.\n",
    "    :return: None\n",
    "    \"\"\"\n",
    "\n",
    "    slice_stats = {}\n",
    "    min_init, max_init = float('inf'), 0\n",
    "    volume_stats = {\n",
    "        'min_air_pockets': min_init,\n",
    "        'max_air_pockets': max_init,\n",
    "        'min_air_pocket_size': min_init,\n",
    "        'max_air_pocket_size': max_init,\n",
    "        'min_black_pixel_count': min_init,\n",
    "        'max_black_pixel_count': max_init,\n",
    "        'min_air_pocket_percentage': min_init,\n",
    "        'max_air_pocket_percentage': max_init,\n",
    "    }\n",
    "\n",
    "    for img in tqdm(data, total=len(data)):\n",
    "        center_x = img.shape[1] // 2\n",
    "        center_y = img.shape[0] // 2\n",
    "        thresh = otsu_thresholding(img)\n",
    "        volume_black_pixel_count = count_black_pixels(thresh)\n",
    "        inverted_img = remove_black_area(thresh)\n",
    "\n",
    "        num_labels, _, stats, centroids = cv2.connectedComponentsWithStats(inverted_img, connectivity=8)\n",
    "\n",
    "        slice_stats, areas, max_area, min_area = update_slice_stats(slice_stats, num_labels, stats, center_x, center_y, centroids)\n",
    "        volume_stats = update_volume_stats(volume_stats, num_labels, min_area, max_area, volume_black_pixel_count, areas)\n",
    "\n",
    "    volume_stats['min_air_pocket_depth'] = min(dct.get('depth') for dct in slice_stats.values())\n",
    "    volume_stats['max_air_pocket_depth'] = max(dct.get('depth') for dct in slice_stats.values())\n",
    "\n",
    "\n",
    "    if save:\n",
    "        convert_slice_stats_to_csv(slice_stats,f'../data/aske/{dataset}/csv_files/slice_stats')\n",
    "        convert_volume_stats_to_csv(volume_stats, f'../data/aske/{dataset}/csv_files/volume_stats')\n",
    "\n",
    "    return slice_stats, volume_stats"
   ]
  },
  {
   "cell_type": "markdown",
   "metadata": {},
   "source": [
    "## Start the analysis"
   ]
  },
  {
   "cell_type": "code",
   "execution_count": null,
   "metadata": {},
   "outputs": [],
   "source": [
    "dataset = 'WUP2'\n",
    "path = DATA_PATH_TEMPLATE.format(dataset.lower())\n",
    "DATA = initialize_dataset(path, dataset, width=1028, save=True)"
   ]
  },
  {
   "cell_type": "code",
   "execution_count": null,
   "metadata": {},
   "outputs": [],
   "source": [
    "run_analysis(DATA, dataset=dataset.lower(), save=True)"
   ]
  },
  {
   "cell_type": "markdown",
   "metadata": {},
   "source": [
    "## Test to randomly apply the postprocessing to a series of images -> Used for visual inspection"
   ]
  },
  {
   "cell_type": "code",
   "execution_count": null,
   "metadata": {},
   "outputs": [],
   "source": [
    "# import random\n",
    "\n",
    "# # Assuming you want to select, for example, 5 random images from the list\n",
    "# subset_size = 30\n",
    "\n",
    "# # Randomly select indices for the subset\n",
    "# subset_indices = random.sample(range(len(DATA)), subset_size)\n",
    "\n",
    "# # Create a list of images from the selected indices\n",
    "# random_subset = [(DATA[i], i) for i in subset_indices]\n",
    "\n",
    "# for img, i in random_subset:\n",
    "#     print(i)\n",
    "#     remove_black_area(otsu_thresholding(img), plot=True)"
   ]
  }
 ],
 "metadata": {
  "kernelspec": {
   "display_name": "rk-ess-9DeOM_8I-py3.10",
   "language": "python",
   "name": "python3"
  },
  "language_info": {
   "codemirror_mode": {
    "name": "ipython",
    "version": 3
   },
   "file_extension": ".py",
   "mimetype": "text/x-python",
   "name": "python",
   "nbconvert_exporter": "python",
   "pygments_lexer": "ipython3",
   "version": "3.11.2"
  },
  "orig_nbformat": 4
 },
 "nbformat": 4,
 "nbformat_minor": 2
}
