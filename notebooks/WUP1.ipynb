{
 "cells": [
  {
   "cell_type": "markdown",
   "metadata": {},
   "source": [
    "## Load the necessary imports"
   ]
  },
  {
   "cell_type": "code",
   "execution_count": 1,
   "metadata": {},
   "outputs": [],
   "source": [
    "from __future__ import annotations\n",
    "\n",
    "import sys\n",
    "\n",
    "sys.path.append(\"../scripts\")"
   ]
  },
  {
   "cell_type": "code",
   "execution_count": 2,
   "metadata": {},
   "outputs": [],
   "source": [
    "from tqdm import tqdm\n",
    "from testy import count_black_pixels, convert_slice_stats_to_csv, convert_volume_stats_to_csv, comparison_plot\n",
    "from wup_analysis import initialize_dataset, DATA_PATH_TEMPLATE_1, update_slice_stats, update_volume_stats\n",
    "from preprocessing import adaptive_thresholding\n",
    "import cv2\n",
    "from matplotlib import pyplot as plt\n",
    "import numpy as np"
   ]
  },
  {
   "cell_type": "markdown",
   "metadata": {},
   "source": [
    "## Implementation of helper functions for the image preprocessing"
   ]
  },
  {
   "cell_type": "markdown",
   "metadata": {},
   "source": [
    "## Main function for the 2D image analysis"
   ]
  },
  {
   "cell_type": "code",
   "execution_count": 3,
   "metadata": {},
   "outputs": [],
   "source": [
    "def run_analysis(data: list[np.ndarray], dataset: str, save: bool = False) -> None:\n",
    "    \"\"\"\n",
    "    Perform analysis on the given dataset.\n",
    "\n",
    "    :param data: List of numpy arrays representing the dataset.\n",
    "    :param dataset: Name of the dataset.\n",
    "    :param save: Whether to save the analysis results or not. Defaults to False.\n",
    "    :return: None\n",
    "    \"\"\"\n",
    "\n",
    "    slice_stats = {}\n",
    "    min_init, max_init = float('inf'), 0\n",
    "    volume_stats = {\n",
    "        'min_air_pockets': min_init,\n",
    "        'max_air_pockets': max_init,\n",
    "        'min_air_pocket_size': min_init,\n",
    "        'max_air_pocket_size': max_init,\n",
    "        'min_black_pixel_count': min_init,\n",
    "        'max_black_pixel_count': max_init,\n",
    "        'min_air_pocket_percentage': min_init,\n",
    "        'max_air_pocket_percentage': max_init,\n",
    "    }\n",
    "\n",
    "    for img in tqdm(data, total=len(data)):\n",
    "        center_x = img.shape[1] // 2\n",
    "        center_y = img.shape[0] // 2\n",
    "        thresh = adaptive_thresholding(img, block_size=201, constant_offset=50)\n",
    "        volume_black_pixel_count = count_black_pixels(thresh)\n",
    "        inverted_img = cv2.bitwise_not(thresh)\n",
    "\n",
    "        num_labels, _, stats, centroids = cv2.connectedComponentsWithStats(inverted_img, connectivity=8)\n",
    "\n",
    "        slice_stats, areas, max_area, min_area = update_slice_stats(slice_stats, num_labels, stats, center_x, center_y, centroids)\n",
    "        volume_stats = update_volume_stats(volume_stats, num_labels, min_area, max_area, volume_black_pixel_count, areas)\n",
    "\n",
    "    volume_stats['min_air_pocket_depth'] = min(dct.get('depth') for dct in slice_stats.values())\n",
    "    volume_stats['max_air_pocket_depth'] = max(dct.get('depth') for dct in slice_stats.values())\n",
    "\n",
    "\n",
    "    if save:\n",
    "        convert_slice_stats_to_csv(slice_stats,f'../data/aske/{dataset}/csv_files/slice_stats')\n",
    "        convert_volume_stats_to_csv(volume_stats, f'../data/aske/{dataset}/csv_files/volume_stats')\n",
    "\n",
    "    return slice_stats, volume_stats"
   ]
  },
  {
   "cell_type": "markdown",
   "metadata": {},
   "source": [
    "## Start the analysis"
   ]
  },
  {
   "cell_type": "code",
   "execution_count": 4,
   "metadata": {},
   "outputs": [],
   "source": [
    "dataset = 'WUP1'\n",
    "path = DATA_PATH_TEMPLATE_1.format(dataset.lower())\n",
    "DATA = initialize_dataset(path, dataset, width=1028, save=True)"
   ]
  },
  {
   "cell_type": "code",
   "execution_count": 5,
   "metadata": {},
   "outputs": [
    {
     "data": {
      "text/plain": [
       "(1480, 1028, 1028)"
      ]
     },
     "execution_count": 5,
     "metadata": {},
     "output_type": "execute_result"
    }
   ],
   "source": [
    "DATA.shape"
   ]
  },
  {
   "cell_type": "code",
   "execution_count": 6,
   "metadata": {},
   "outputs": [
    {
     "ename": "ModuleNotFoundError",
     "evalue": "No module named 'releases'",
     "output_type": "error",
     "traceback": [
      "\u001b[0;31m---------------------------------------------------------------------------\u001b[0m",
      "\u001b[0;31mModuleNotFoundError\u001b[0m                       Traceback (most recent call last)",
      "Cell \u001b[0;32mIn[6], line 1\u001b[0m\n\u001b[0;32m----> 1\u001b[0m \u001b[38;5;28;01mimport\u001b[39;00m \u001b[38;5;21;01mmlab\u001b[39;00m\n",
      "File \u001b[0;32m~/.cache/pypoetry/virtualenvs/rk-ess-9DeOM_8I-py3.11/lib/python3.11/site-packages/mlab/__init__.py:11\u001b[0m\n\u001b[1;32m      1\u001b[0m \u001b[38;5;124;03m'''\u001b[39;00m\n\u001b[1;32m      2\u001b[0m \u001b[38;5;124;03mMLAB calls MATLAB funcitons and looks like a normal python library.\u001b[39;00m\n\u001b[1;32m      3\u001b[0m \n\u001b[0;32m   (...)\u001b[0m\n\u001b[1;32m      8\u001b[0m \n\u001b[1;32m      9\u001b[0m \u001b[38;5;124;03m'''\u001b[39;00m\n\u001b[0;32m---> 11\u001b[0m \u001b[38;5;28;01mimport\u001b[39;00m \u001b[38;5;21;01mreleases\u001b[39;00m\n",
      "\u001b[0;31mModuleNotFoundError\u001b[0m: No module named 'releases'"
     ]
    }
   ],
   "source": [
    "import mlab"
   ]
  },
  {
   "cell_type": "code",
   "execution_count": null,
   "metadata": {},
   "outputs": [],
   "source": [
    "thresh = adaptive_thresholding(DATA[0], block_size=201, constant_offset=50)\n",
    "inverted_img = cv2.bitwise_not(thresh)"
   ]
  },
  {
   "cell_type": "code",
   "execution_count": null,
   "metadata": {},
   "outputs": [],
   "source": [
    "# Specify the file names for saving\n",
    "thresh_filename = 'thresh_image.png'\n",
    "inverted_filename = 'inverted_image.png'\n",
    "\n",
    "\n",
    "\n",
    "# Save the thresholded image\n",
    "cv2.imwrite(thresh_filename, thresh)\n",
    "\n",
    "# Save the inverted image\n",
    "cv2.imwrite(inverted_filename, inverted_img)"
   ]
  },
  {
   "cell_type": "code",
   "execution_count": null,
   "metadata": {},
   "outputs": [],
   "source": [
    "# Save the inverted image\n",
    "cv2.imwrite('original.png', DATA[0])"
   ]
  },
  {
   "cell_type": "code",
   "execution_count": null,
   "metadata": {},
   "outputs": [],
   "source": [
    "# run_analysis(DATA, dataset=dataset.lower(), save=True)"
   ]
  },
  {
   "cell_type": "markdown",
   "metadata": {},
   "source": [
    "## Test to randomly apply the postprocessing to a series of images -> Used for visual inspection"
   ]
  },
  {
   "cell_type": "code",
   "execution_count": null,
   "metadata": {},
   "outputs": [],
   "source": [
    "# import random\n",
    "\n",
    "# # Assuming you want to select, for example, 5 random images from the list\n",
    "# subset_size = 30\n",
    "\n",
    "# # Randomly select indices for the subset\n",
    "# subset_indices = random.sample(range(len(DATA)), subset_size)\n",
    "\n",
    "# # Create a list of images from the selected indices\n",
    "# random_subset = [(DATA[i], i) for i in subset_indices]\n",
    "\n",
    "# for img, i in random_subset:\n",
    "#     print(i)\n",
    "#     adaptive_thresholding(img, block_size=201, constant_offset=50, plot=True)"
   ]
  },
  {
   "cell_type": "markdown",
   "metadata": {},
   "source": [
    "## Save data as VTK"
   ]
  },
  {
   "cell_type": "code",
   "execution_count": null,
   "metadata": {},
   "outputs": [],
   "source": [
    "def calculate_slices(memory_limit_gb, slice_shape=(1028, 1028), dtype=np.uint8):\n",
    "    # Size of each element in bytes\n",
    "    element_size = np.dtype(dtype).itemsize\n",
    "    print(element_size)\n",
    "\n",
    "    # Calculate the size of each slice in bytes\n",
    "    slice_size_bytes = np.prod(slice_shape) * element_size\n",
    "    print(slice_size_bytes)\n",
    "\n",
    "    # Convert memory limit to bytes\n",
    "    memory_limit_bytes = memory_limit_gb * 1024**3\n",
    "\n",
    "    # Calculate the number of slices that can fit in memory\n",
    "    num_slices = memory_limit_bytes // slice_size_bytes\n",
    "\n",
    "    return num_slices\n"
   ]
  },
  {
   "cell_type": "code",
   "execution_count": null,
   "metadata": {},
   "outputs": [],
   "source": [
    "# Example usage with a 4GB memory limit\n",
    "memory_limit_gb = 4\n",
    "slice_shape = (1028, 1028)\n",
    "\n",
    "num_slices = calculate_slices(memory_limit_gb, slice_shape, dtype=DATA.dtype)\n",
    "print(f\"Number of slices that can fit in {memory_limit_gb}GB: {num_slices}\")\n"
   ]
  },
  {
   "cell_type": "code",
   "execution_count": null,
   "metadata": {},
   "outputs": [],
   "source": [
    "import vtk\n",
    "import vtk.util.numpy_support as numpy_support\n",
    "\n",
    "def numpyToVTK(data, output_file):\n",
    "    data_type = vtk.VTK_FLOAT\n",
    "    shape = data.shape\n",
    "\n",
    "    flat_data_array = data.flatten()\n",
    "    vtk_data = numpy_support.numpy_to_vtk(num_array=flat_data_array, deep=True, array_type=data_type)\n",
    "\n",
    "    img = vtk.vtkImageData()\n",
    "    img.GetPointData().SetScalars(vtk_data)\n",
    "    img.SetDimensions(shape[0], shape[1], shape[2])\n",
    "\n",
    "    # Save the VTK file\n",
    "    writer = vtk.vtkXMLImageDataWriter()\n",
    "    writer.SetFileName(output_file)\n",
    "    writer.SetInputData(img)\n",
    "    writer.Write()"
   ]
  },
  {
   "cell_type": "code",
   "execution_count": null,
   "metadata": {},
   "outputs": [],
   "source": [
    "output_file = 'test2.vti'  # Use '.vti' extension for XML-based VTK files\n",
    "numpyToVTK(DATA[:200], output_file)"
   ]
  },
  {
   "cell_type": "code",
   "execution_count": null,
   "metadata": {},
   "outputs": [],
   "source": [
    "def numpyToVTK_grayscale(volume_data, output_file):\n",
    "    data_type = vtk.VTK_UNSIGNED_CHAR  # Use unsigned char for grayscale data\n",
    "    num_components = 1  # Grayscale has one component per voxel\n",
    "    shape = volume_data.shape\n",
    "\n",
    "    # Flatten the volume data array\n",
    "    flat_data_array = volume_data.flatten()\n",
    "    vtk_data = numpy_support.numpy_to_vtk(num_array=flat_data_array, deep=True, array_type=data_type)\n",
    "\n",
    "    img = vtk.vtkImageData()\n",
    "    img.GetPointData().SetScalars(vtk_data)\n",
    "    img.SetDimensions(shape[0], shape[1], shape[2])\n",
    "\n",
    "    # Set the number of components for the grayscale data\n",
    "    img.GetPointData().GetScalars().SetNumberOfComponents(num_components)\n",
    "\n",
    "    # Save the VTK file\n",
    "    writer = vtk.vtkXMLImageDataWriter()\n",
    "    writer.SetFileName(output_file)\n",
    "    writer.SetInputData(img)\n",
    "    writer.Write()"
   ]
  },
  {
   "cell_type": "code",
   "execution_count": null,
   "metadata": {},
   "outputs": [],
   "source": [
    "output_file = 'test2.vti'  # Use '.vti' extension for XML-based VTK files\n",
    "numpyToVTK_grayscale(DATA[:200], output_file)"
   ]
  }
 ],
 "metadata": {
  "kernelspec": {
   "display_name": "rk-ess-9DeOM_8I-py3.10",
   "language": "python",
   "name": "python3"
  },
  "language_info": {
   "codemirror_mode": {
    "name": "ipython",
    "version": 3
   },
   "file_extension": ".py",
   "mimetype": "text/x-python",
   "name": "python",
   "nbconvert_exporter": "python",
   "pygments_lexer": "ipython3",
   "version": "3.11.2"
  },
  "orig_nbformat": 4
 },
 "nbformat": 4,
 "nbformat_minor": 2
}
